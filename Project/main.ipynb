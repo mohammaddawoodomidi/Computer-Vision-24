{
 "cells": [
  {
   "cell_type": "code",
   "execution_count": null,
   "metadata": {},
   "outputs": [],
   "source": [
    "# Step 1: Install YOLOv8 from Ultralytics\n",
    "# pip install ultralytics\n",
    "\n",
    "from ultralytics import YOLO\n",
    "import os\n",
    "\n",
    "# Step 2: Set Paths for Dataset\n",
    "# Ensure your dataset follows the YOLO directory structure:\n",
    "# ├── dataset/\n",
    "# │   ├── images/\n",
    "# │   │   ├── train/\n",
    "# │   │   ├── val/\n",
    "# │   ├── labels/\n",
    "# │   │   ├── train/\n",
    "# │   │   ├── val/\n",
    "# │   ├── dataset.yaml\n",
    "\n",
    "dataset_path = \"dataset/data.yaml\"  # Update with your dataset's path\n",
    "\n",
    "# Step 3: Load Pretrained YOLOv8 Model\n",
    "model = YOLO('yolov8n.pt')  # Choose 'yolov8n.pt', 'yolov8s.pt', 'yolov8m.pt', etc., based on your compute capacity\n",
    "\n",
    "# Step 4: Train the Model\n",
    "results = model.train(\n",
    "    data=dataset_path,       # Path to the dataset YAML file\n",
    "    epochs=5,              # Number of epochs (increase for better results)\n",
    "    batch=16,                # Batch size (adjust based on GPU memory)\n",
    "    imgsz=1280,               # Image size (higher can increase accuracy but requires more memory)\n",
    "    workers=4,               # Number of data loading workers\n",
    "    optimizer='AdamW',       # Use AdamW optimizer for better convergence\n",
    "    lr0=0.001,               # Initial learning rate\n",
    "    patience=10,             # Early stopping patience\n",
    "    augment=True,            # Apply data augmentation (random scaling, flipping, etc.)\n",
    "    val=True                 # Validate after training\n",
    ")\n",
    "\n",
    "# Step 5: Evaluate on the Validation Set\n",
    "print(\"Evaluating on Validation Set:\")\n",
    "val_metrics = model.val()  # Automatically uses 'val' split from data.yaml\n",
    "\n",
    "# Step 7: Inference on Custom Images\n",
    "inference_results = model.predict(source=\"dataset/images/test\", save=True, conf=0.25)\n",
    "print(\"Inference completed. Check results in the 'runs/' folder.\")\n",
    "\n"
   ]
  },
  {
   "cell_type": "code",
   "execution_count": null,
   "metadata": {},
   "outputs": [],
   "source": []
  },
  {
   "cell_type": "code",
   "execution_count": null,
   "metadata": {},
   "outputs": [],
   "source": []
  },
  {
   "cell_type": "code",
   "execution_count": null,
   "metadata": {},
   "outputs": [],
   "source": []
  },
  {
   "cell_type": "code",
   "execution_count": null,
   "metadata": {},
   "outputs": [],
   "source": []
  }
 ],
 "metadata": {
  "kernelspec": {
   "display_name": "Python 3",
   "language": "python",
   "name": "python3"
  },
  "language_info": {
   "codemirror_mode": {
    "name": "ipython",
    "version": 3
   },
   "file_extension": ".py",
   "mimetype": "text/x-python",
   "name": "python",
   "nbconvert_exporter": "python",
   "pygments_lexer": "ipython3",
   "version": "3.11.9"
  }
 },
 "nbformat": 4,
 "nbformat_minor": 2
}
